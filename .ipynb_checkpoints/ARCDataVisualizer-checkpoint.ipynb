{
 "cells": [
  {
   "cell_type": "markdown",
   "id": "25ebcb57-3348-40c4-a036-de11ab99634f",
   "metadata": {},
   "source": [
    "# ARC Data Visualizer"
   ]
  },
  {
   "cell_type": "code",
   "execution_count": null,
   "id": "579ee5d3-aa4b-4153-a5b7-bdd750e8f5ec",
   "metadata": {},
   "outputs": [],
   "source": [
    "import json\n",
    "import os\n",
    "import matplotlib.pyplot as plt\n",
    "import torch\n",
    "\n",
    "def load_arc_data(json_file):\n",
    "    with open(json_file, 'r') as f:\n",
    "        data = json.load(f)\n",
    "    \n",
    "    inputs = []\n",
    "    outputs = []\n",
    "    \n",
    "    for task in data['train']:\n",
    "        input_grid = torch.tensor(task['input'], dtype=torch.float32)\n",
    "        output_grid = torch.tensor(task['output'], dtype=torch.float32)\n",
    "        inputs.append(input_grid)\n",
    "        outputs.append(output_grid)\n",
    "    \n",
    "    return inputs, outputs\n",
    "\n",
    "def visualize_grids(inputs, outputs):\n",
    "    num_pairs = len(inputs)\n",
    "    \n",
    "    fig, axes = plt.subplots(nrows=num_pairs, ncols=2, figsize=(10, 5 * num_pairs))\n",
    "    \n",
    "    if num_pairs == 1:\n",
    "        axes = axes.reshape(1, -1)  # Reshape to handle single pair case\n",
    "    \n",
    "    for i in range(num_pairs):\n",
    "        ax_input = axes[i, 0]\n",
    "        ax_output = axes[i, 1]\n",
    "        \n",
    "        ax_input.imshow(inputs[i], cmap='inferno', origin='upper')\n",
    "        ax_input.set_title(f'Input {i + 1}')\n",
    "        ax_input.axis('off')\n",
    "        \n",
    "        ax_output.imshow(outputs[i], cmap='inferno', origin='upper')\n",
    "        ax_output.set_title(f'Output {i + 1}')\n",
    "        ax_output.axis('off')\n",
    "    \n",
    "    plt.tight_layout()\n",
    "    plt.show()\n",
    "\n",
    "def main():\n",
    "    directory = '/home/xaqmusic/ARC-AGI/data/training/'\n",
    "    \n",
    "    for filename in os.listdir(directory):\n",
    "        if filename.endswith('.json'):\n",
    "            json_file_path = os.path.join(directory, filename)\n",
    "            print(f'Processing file: {json_file_path}')\n",
    "            \n",
    "            inputs, outputs = load_arc_data(json_file_path)\n",
    "            visualize_grids(inputs, outputs)\n",
    "\n",
    "if __name__ == '__main__':\n",
    "    main()\n"
   ]
  }
 ],
 "metadata": {
  "kernelspec": {
   "display_name": "Python 3 (ipykernel)",
   "language": "python",
   "name": "python3"
  },
  "language_info": {
   "codemirror_mode": {
    "name": "ipython",
    "version": 3
   },
   "file_extension": ".py",
   "mimetype": "text/x-python",
   "name": "python",
   "nbconvert_exporter": "python",
   "pygments_lexer": "ipython3",
   "version": "3.10.12"
  }
 },
 "nbformat": 4,
 "nbformat_minor": 5
}
